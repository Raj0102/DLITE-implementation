{
 "cells": [
  {
   "cell_type": "code",
   "execution_count": 1,
   "metadata": {},
   "outputs": [
    {
     "name": "stdout",
     "output_type": "stream",
     "text": [
      "5\n"
     ]
    }
   ],
   "source": [
    "print(5)"
   ]
  },
  {
   "cell_type": "code",
   "execution_count": 48,
   "metadata": {},
   "outputs": [
    {
     "name": "stdout",
     "output_type": "stream",
     "text": [
      "57\n"
     ]
    }
   ],
   "source": [
    "import sys\n",
    "sys.path.append(\".\")\n",
    "\n",
    "from test import myClass\n",
    "\n",
    "newClass = myClass(19)\n",
    "val = newClass.getVal()\n",
    "\n",
    "print(val)"
   ]
  },
  {
   "cell_type": "code",
   "execution_count": 49,
   "metadata": {},
   "outputs": [],
   "source": [
    "%matplotlib inline\n",
    "import math\n",
    "import matplotlib.pyplot as plt\n",
    "from matplotlib import animation, rc\n",
    "import numpy as np\n",
    "import pandas as pd\n",
    "import seaborn as sns\n",
    "from numpy import linalg\n",
    "from scipy import stats\n",
    "from IPython.display import HTML, display\n",
    "\n",
    "\n",
    "plt.rcdefaults()"
   ]
  },
  {
   "cell_type": "code",
   "execution_count": 50,
   "metadata": {},
   "outputs": [
    {
     "data": {
      "text/html": [
       "<div>\n",
       "<style scoped>\n",
       "    .dataframe tbody tr th:only-of-type {\n",
       "        vertical-align: middle;\n",
       "    }\n",
       "\n",
       "    .dataframe tbody tr th {\n",
       "        vertical-align: top;\n",
       "    }\n",
       "\n",
       "    .dataframe thead th {\n",
       "        text-align: right;\n",
       "    }\n",
       "</style>\n",
       "<table border=\"1\" class=\"dataframe\">\n",
       "  <thead>\n",
       "    <tr style=\"text-align: right;\">\n",
       "      <th></th>\n",
       "      <th>v1</th>\n",
       "      <th>v2</th>\n",
       "    </tr>\n",
       "  </thead>\n",
       "  <tbody>\n",
       "    <tr>\n",
       "      <th>0</th>\n",
       "      <td>ham</td>\n",
       "      <td>Go until jurong point, crazy.. Available only ...</td>\n",
       "    </tr>\n",
       "    <tr>\n",
       "      <th>1</th>\n",
       "      <td>ham</td>\n",
       "      <td>Ok lar... Joking wif u oni...</td>\n",
       "    </tr>\n",
       "    <tr>\n",
       "      <th>2</th>\n",
       "      <td>spam</td>\n",
       "      <td>Free entry in 2 a wkly comp to win FA Cup fina...</td>\n",
       "    </tr>\n",
       "    <tr>\n",
       "      <th>3</th>\n",
       "      <td>ham</td>\n",
       "      <td>U dun say so early hor... U c already then say...</td>\n",
       "    </tr>\n",
       "    <tr>\n",
       "      <th>4</th>\n",
       "      <td>ham</td>\n",
       "      <td>Nah I don't think he goes to usf, he lives aro...</td>\n",
       "    </tr>\n",
       "  </tbody>\n",
       "</table>\n",
       "</div>"
      ],
      "text/plain": [
       "     v1                                                 v2\n",
       "0   ham  Go until jurong point, crazy.. Available only ...\n",
       "1   ham                      Ok lar... Joking wif u oni...\n",
       "2  spam  Free entry in 2 a wkly comp to win FA Cup fina...\n",
       "3   ham  U dun say so early hor... U c already then say...\n",
       "4   ham  Nah I don't think he goes to usf, he lives aro..."
      ]
     },
     "execution_count": 50,
     "metadata": {},
     "output_type": "execute_result"
    }
   ],
   "source": [
    "emails = pd.read_csv(r\"C:\\Users\\AALEKH\\Downloads\\spam.csv\", encoding=\"iso8859-1\")\n",
    "emails[['v1','v2']].head()"
   ]
  },
  {
   "cell_type": "code",
   "execution_count": 51,
   "metadata": {},
   "outputs": [],
   "source": [
    "\n",
    "import sys\n",
    "sys.path.append(\".\")\n",
    "\n",
    "#from source import TfidfVectorizer\n",
    "import source\n",
    "# instantiate a Tfidf vectorizer\n",
    "vect = source.TfidfVectorizer(analyzer=\"word\")\n",
    "# obtain vocabulary dictionary and return doc-term matrix\n",
    "X = vect.fit_transform(emails.v2) \n",
    "# get the identified terms\n",
    "terms = vect.get_feature_names()\n",
    "# sum terms' frequencies in the entire collection\n",
    "freqs = X.toarray().sum(axis=0)\n",
    "terms = np.array(terms)\n",
    "freqs = np.array(freqs)\n",
    "\n",
    "# organize the tersm and frequencies in t and f columns\n",
    "tfs = pd.DataFrame({'t':terms, 'f':freqs}, columns=['t','f'])"
   ]
  },
  {
   "cell_type": "code",
   "execution_count": 53,
   "metadata": {},
   "outputs": [
    {
     "data": {
      "text/html": [
       "<div>\n",
       "<style scoped>\n",
       "    .dataframe tbody tr th:only-of-type {\n",
       "        vertical-align: middle;\n",
       "    }\n",
       "\n",
       "    .dataframe tbody tr th {\n",
       "        vertical-align: top;\n",
       "    }\n",
       "\n",
       "    .dataframe thead th {\n",
       "        text-align: right;\n",
       "    }\n",
       "</style>\n",
       "<table border=\"1\" class=\"dataframe\">\n",
       "  <thead>\n",
       "    <tr style=\"text-align: right;\">\n",
       "      <th></th>\n",
       "      <th>t</th>\n",
       "      <th>f</th>\n",
       "    </tr>\n",
       "  </thead>\n",
       "  <tbody>\n",
       "    <tr>\n",
       "      <th>0</th>\n",
       "      <td>you</td>\n",
       "      <td>245.978616</td>\n",
       "    </tr>\n",
       "    <tr>\n",
       "      <th>1</th>\n",
       "      <td>to</td>\n",
       "      <td>205.865267</td>\n",
       "    </tr>\n",
       "    <tr>\n",
       "      <th>2</th>\n",
       "      <td>the</td>\n",
       "      <td>147.009403</td>\n",
       "    </tr>\n",
       "    <tr>\n",
       "      <th>3</th>\n",
       "      <td>in</td>\n",
       "      <td>122.283484</td>\n",
       "    </tr>\n",
       "    <tr>\n",
       "      <th>4</th>\n",
       "      <td>me</td>\n",
       "      <td>117.899742</td>\n",
       "    </tr>\n",
       "  </tbody>\n",
       "</table>\n",
       "</div>"
      ],
      "text/plain": [
       "     t           f\n",
       "0  you  245.978616\n",
       "1   to  205.865267\n",
       "2  the  147.009403\n",
       "3   in  122.283484\n",
       "4   me  117.899742"
      ]
     },
     "execution_count": 53,
     "metadata": {},
     "output_type": "execute_result"
    }
   ],
   "source": [
    "tfs = tfs.sort_values(by=['f'], ascending=False)\n",
    "tfs = tfs.reset_index(drop=True)\n",
    "tfs.head()"
   ]
  },
  {
   "cell_type": "code",
   "execution_count": 54,
   "metadata": {},
   "outputs": [
    {
     "data": {
      "text/plain": [
       "'C:\\\\Users\\\\AALEKH\\\\STAR\\\\source.py'"
      ]
     },
     "execution_count": 54,
     "metadata": {},
     "output_type": "execute_result"
    }
   ],
   "source": [
    "import source\n",
    "source.__file__"
   ]
  },
  {
   "cell_type": "code",
   "execution_count": 21,
   "metadata": {},
   "outputs": [],
   "source": [
    "# from sklearn.feature_extraction.text import CountVectorizer\n",
    "\n",
    "# # instantiate a count vectorizer\n",
    "# vect = CountVectorizer(analyzer=\"word\")\n",
    "# # obtain vocabulary dictionary and return doc-term matrix\n",
    "# X = vect.fit_transform(emails.v2) \n",
    "# # get the identified terms\n",
    "# terms = vect.get_feature_names()\n",
    "# # sum terms' frequencies in the entire collection\n",
    "# freqs = X.toarray().sum(axis=0)\n",
    "# terms = np.array(terms)\n",
    "# freqs = np.array(freqs)\n",
    "\n",
    "# # organize the tersm and frequencies in t and f columns\n",
    "# tfs = pd.DataFrame({'t':terms, 'f':freqs}, columns=['t','f'])\n"
   ]
  },
  {
   "cell_type": "code",
   "execution_count": 22,
   "metadata": {},
   "outputs": [
    {
     "data": {
      "text/html": [
       "<div>\n",
       "<style scoped>\n",
       "    .dataframe tbody tr th:only-of-type {\n",
       "        vertical-align: middle;\n",
       "    }\n",
       "\n",
       "    .dataframe tbody tr th {\n",
       "        vertical-align: top;\n",
       "    }\n",
       "\n",
       "    .dataframe thead th {\n",
       "        text-align: right;\n",
       "    }\n",
       "</style>\n",
       "<table border=\"1\" class=\"dataframe\">\n",
       "  <thead>\n",
       "    <tr style=\"text-align: right;\">\n",
       "      <th></th>\n",
       "      <th>t</th>\n",
       "      <th>f</th>\n",
       "    </tr>\n",
       "  </thead>\n",
       "  <tbody>\n",
       "    <tr>\n",
       "      <th>0</th>\n",
       "      <td>to</td>\n",
       "      <td>2242</td>\n",
       "    </tr>\n",
       "    <tr>\n",
       "      <th>1</th>\n",
       "      <td>you</td>\n",
       "      <td>2240</td>\n",
       "    </tr>\n",
       "    <tr>\n",
       "      <th>2</th>\n",
       "      <td>the</td>\n",
       "      <td>1328</td>\n",
       "    </tr>\n",
       "    <tr>\n",
       "      <th>3</th>\n",
       "      <td>and</td>\n",
       "      <td>979</td>\n",
       "    </tr>\n",
       "    <tr>\n",
       "      <th>4</th>\n",
       "      <td>in</td>\n",
       "      <td>898</td>\n",
       "    </tr>\n",
       "  </tbody>\n",
       "</table>\n",
       "</div>"
      ],
      "text/plain": [
       "     t     f\n",
       "0   to  2242\n",
       "1  you  2240\n",
       "2  the  1328\n",
       "3  and   979\n",
       "4   in   898"
      ]
     },
     "execution_count": 22,
     "metadata": {},
     "output_type": "execute_result"
    }
   ],
   "source": [
    "# tfs = tfs.sort_values(by=['f'], ascending=False)\n",
    "# tfs = tfs.reset_index(drop=True)\n",
    "# tfs.head()"
   ]
  },
  {
   "cell_type": "code",
   "execution_count": 55,
   "metadata": {},
   "outputs": [
    {
     "data": {
      "text/html": [
       "<div>\n",
       "<style scoped>\n",
       "    .dataframe tbody tr th:only-of-type {\n",
       "        vertical-align: middle;\n",
       "    }\n",
       "\n",
       "    .dataframe tbody tr th {\n",
       "        vertical-align: top;\n",
       "    }\n",
       "\n",
       "    .dataframe thead th {\n",
       "        text-align: right;\n",
       "    }\n",
       "</style>\n",
       "<table border=\"1\" class=\"dataframe\">\n",
       "  <thead>\n",
       "    <tr style=\"text-align: right;\">\n",
       "      <th></th>\n",
       "      <th>t</th>\n",
       "      <th>k</th>\n",
       "      <th>f</th>\n",
       "    </tr>\n",
       "  </thead>\n",
       "  <tbody>\n",
       "    <tr>\n",
       "      <th>0</th>\n",
       "      <td>you</td>\n",
       "      <td>1</td>\n",
       "      <td>245.978616</td>\n",
       "    </tr>\n",
       "    <tr>\n",
       "      <th>1</th>\n",
       "      <td>to</td>\n",
       "      <td>2</td>\n",
       "      <td>205.865267</td>\n",
       "    </tr>\n",
       "    <tr>\n",
       "      <th>2</th>\n",
       "      <td>the</td>\n",
       "      <td>3</td>\n",
       "      <td>147.009403</td>\n",
       "    </tr>\n",
       "    <tr>\n",
       "      <th>3</th>\n",
       "      <td>in</td>\n",
       "      <td>4</td>\n",
       "      <td>122.283484</td>\n",
       "    </tr>\n",
       "    <tr>\n",
       "      <th>4</th>\n",
       "      <td>me</td>\n",
       "      <td>5</td>\n",
       "      <td>117.899742</td>\n",
       "    </tr>\n",
       "  </tbody>\n",
       "</table>\n",
       "</div>"
      ],
      "text/plain": [
       "     t  k           f\n",
       "0  you  1  245.978616\n",
       "1   to  2  205.865267\n",
       "2  the  3  147.009403\n",
       "3   in  4  122.283484\n",
       "4   me  5  117.899742"
      ]
     },
     "execution_count": 55,
     "metadata": {},
     "output_type": "execute_result"
    }
   ],
   "source": [
    "tfs['k'] = tfs.index + 1\n",
    "tfs[['t','k','f']].head()"
   ]
  },
  {
   "cell_type": "code",
   "execution_count": 56,
   "metadata": {},
   "outputs": [
    {
     "data": {
      "image/png": "[encoded data removed]",
      "text/plain": [
       "<Figure size 640x480 with 1 Axes>"
      ]
     },
     "metadata": {},
     "output_type": "display_data"
    }
   ],
   "source": [
    "plt.plot(tfs['k'], tfs['f'])\n",
    "plt.xlabel('Rank $k_t$')\n",
    "plt.ylabel('Frequency $f_t$')\n",
    "plt.show()"
   ]
  },
  {
   "cell_type": "code",
   "execution_count": 57,
   "metadata": {},
   "outputs": [
    {
     "data": {
      "image/png": "[encoded data removed]",
      "text/plain": [
       "<Figure size 640x480 with 1 Axes>"
      ]
     },
     "metadata": {},
     "output_type": "display_data"
    }
   ],
   "source": [
    "plt.loglog(tfs['k'], tfs['f'])\n",
    "plt.xlabel('Rank $k_t$')\n",
    "plt.ylabel('Frequency $f_t$')\n",
    "plt.show()"
   ]
  },
  {
   "cell_type": "code",
   "execution_count": 58,
   "metadata": {},
   "outputs": [
    {
     "data": {
      "text/html": [
       "<div>\n",
       "<style scoped>\n",
       "    .dataframe tbody tr th:only-of-type {\n",
       "        vertical-align: middle;\n",
       "    }\n",
       "\n",
       "    .dataframe tbody tr th {\n",
       "        vertical-align: top;\n",
       "    }\n",
       "\n",
       "    .dataframe thead th {\n",
       "        text-align: right;\n",
       "    }\n",
       "</style>\n",
       "<table border=\"1\" class=\"dataframe\">\n",
       "  <thead>\n",
       "    <tr style=\"text-align: right;\">\n",
       "      <th></th>\n",
       "      <th>t</th>\n",
       "      <th>k</th>\n",
       "      <th>p</th>\n",
       "    </tr>\n",
       "  </thead>\n",
       "  <tbody>\n",
       "    <tr>\n",
       "      <th>0</th>\n",
       "      <td>you</td>\n",
       "      <td>1</td>\n",
       "      <td>0.013514</td>\n",
       "    </tr>\n",
       "    <tr>\n",
       "      <th>1</th>\n",
       "      <td>to</td>\n",
       "      <td>2</td>\n",
       "      <td>0.011310</td>\n",
       "    </tr>\n",
       "    <tr>\n",
       "      <th>2</th>\n",
       "      <td>the</td>\n",
       "      <td>3</td>\n",
       "      <td>0.008077</td>\n",
       "    </tr>\n",
       "    <tr>\n",
       "      <th>3</th>\n",
       "      <td>in</td>\n",
       "      <td>4</td>\n",
       "      <td>0.006718</td>\n",
       "    </tr>\n",
       "    <tr>\n",
       "      <th>4</th>\n",
       "      <td>me</td>\n",
       "      <td>5</td>\n",
       "      <td>0.006477</td>\n",
       "    </tr>\n",
       "  </tbody>\n",
       "</table>\n",
       "</div>"
      ],
      "text/plain": [
       "     t  k         p\n",
       "0  you  1  0.013514\n",
       "1   to  2  0.011310\n",
       "2  the  3  0.008077\n",
       "3   in  4  0.006718\n",
       "4   me  5  0.006477"
      ]
     },
     "execution_count": 58,
     "metadata": {},
     "output_type": "execute_result"
    }
   ],
   "source": [
    "ttf = tfs['f'].sum()\n",
    "tfs['p'] = tfs['f'] / ttf\n",
    "tfs[['t','k','p']].head()"
   ]
  },
  {
   "cell_type": "code",
   "execution_count": 59,
   "metadata": {},
   "outputs": [
    {
     "data": {
      "image/png": "[encoded data removed]",
      "text/plain": [
       "<Figure size 640x480 with 1 Axes>"
      ]
     },
     "metadata": {},
     "output_type": "display_data"
    }
   ],
   "source": [
    "plt.loglog(tfs['k'], tfs['p'])\n",
    "plt.xlabel('Rank $k_t$')\n",
    "plt.ylabel('Probability $p_t$')\n",
    "plt.show()"
   ]
  },
  {
   "cell_type": "code",
   "execution_count": 60,
   "metadata": {},
   "outputs": [
    {
     "data": {
      "image/png": "[encoded data removed]",
      "text/plain": [
       "<Figure size 640x480 with 1 Axes>"
      ]
     },
     "metadata": {},
     "output_type": "display_data"
    }
   ],
   "source": [
    "from sklearn.linear_model import LinearRegression\n",
    "\n",
    "# log transformation of k and p values\n",
    "x = tfs['k'].values.reshape(-1,1)\n",
    "xlog = np.log(x)\n",
    "y = tfs['p'].values.reshape(-1,1)\n",
    "ylog = np.log(y)\n",
    "\n",
    "# perform linear regression on log values\n",
    "lm = LinearRegression()\n",
    "lm.fit(xlog,ylog)\n",
    "yplog = lm.predict(xlog)\n",
    "\n",
    "# plot the fitted (predicted) line \n",
    "# along with actual k_t and p_t data\n",
    "plt.loglog(tfs['k'], tfs['p'], label=\"Observed Data\")\n",
    "plt.loglog(x, np.exp(yplog), \n",
    "           label=\"$p_t = k_t^{\" + \"{:.2f}\".format(lm.coef_[0][0]) + \"}$\")\n",
    "plt.xlabel('Rank $k_t$')\n",
    "plt.ylabel('Probability $p_t$')\n",
    "plt.legend()\n",
    "plt.show()"
   ]
  },
  {
   "cell_type": "code",
   "execution_count": 61,
   "metadata": {},
   "outputs": [
    {
     "name": "stdout",
     "output_type": "stream",
     "text": [
      "[ True  True  True ...  True False False]\n"
     ]
    }
   ],
   "source": [
    "train_index = np.random.rand(len(emails)) < 0.8\n",
    "print(train_index)"
   ]
  },
  {
   "cell_type": "code",
   "execution_count": 62,
   "metadata": {},
   "outputs": [],
   "source": [
    "train = emails[train_index]\n",
    "test = emails[~train_index]"
   ]
  },
  {
   "cell_type": "code",
   "execution_count": 63,
   "metadata": {},
   "outputs": [
    {
     "name": "stdout",
     "output_type": "stream",
     "text": [
      "v1    v1  \n",
      "ham   ham     3839\n",
      "spam  spam     589\n",
      "Name: v1, dtype: int64\n",
      "p(ham) = 0.867\n"
     ]
    }
   ],
   "source": [
    "n = train.shape[0]\n",
    "counts = train.groupby(\"v1\")[\"v1\"].value_counts()\n",
    "print(counts)\n",
    "ham = counts[0]\n",
    "# compute probability\n",
    "p_ham = ham / n\n",
    "print(\"p(ham) = {:.3f}\".format(p_ham))"
   ]
  },
  {
   "cell_type": "code",
   "execution_count": 64,
   "metadata": {},
   "outputs": [
    {
     "name": "stdout",
     "output_type": "stream",
     "text": [
      "p(spam) = 0.133\n"
     ]
    }
   ],
   "source": [
    "# get the total number of spams\n",
    "spam = counts[1]\n",
    "# compute probability\n",
    "p_spam = spam / n\n",
    "print(\"p(spam) = {:.3f}\".format(p_spam))"
   ]
  },
  {
   "cell_type": "code",
   "execution_count": 65,
   "metadata": {},
   "outputs": [
    {
     "data": {
      "text/plain": [
       "(3839, 7731)"
      ]
     },
     "execution_count": 65,
     "metadata": {},
     "output_type": "execute_result"
    }
   ],
   "source": [
    "vect = source.TfidfVectorizer(analyzer=\"word\")\n",
    "X_train = vect.fit_transform(train.v2)\n",
    "X_test = vect.transform(test.v2)\n",
    "ham_index = train['v1']=='ham'\n",
    "hams = train[ham_index]\n",
    "spams = train[~ham_index]\n",
    "X_hams = vect.transform(hams.v2)\n",
    "X_spams = vect.transform(spams.v2)\n",
    "X_hams.shape"
   ]
  },
  {
   "cell_type": "code",
   "execution_count": 66,
   "metadata": {},
   "outputs": [
    {
     "name": "stdout",
     "output_type": "stream",
     "text": [
      "The 5401th term is: prize\n"
     ]
    }
   ],
   "source": [
    "terms = vect.get_feature_names()\n",
    "t = \"prize\"\n",
    "i = terms.index(t)\n",
    "print(\"The {:d}th term is: {:s}\".format(i, t))"
   ]
  },
  {
   "cell_type": "code",
   "execution_count": 67,
   "metadata": {},
   "outputs": [
    {
     "name": "stdout",
     "output_type": "stream",
     "text": [
      "p(prize|ham) = 0.0000000, smoothed to 0.0000837\n"
     ]
    }
   ],
   "source": [
    "hamf = X_hams.toarray().sum(axis=0)\n",
    "hamttf = hamf.sum()\n",
    "f = hamf[i]\n",
    "p = f / hamttf\n",
    "ps = (f+1)/(hamttf+2)\n",
    "print(\"p({:s}|ham) = {:.7f}, smoothed to {:.7f}\".format(t, p, ps))"
   ]
  },
  {
   "cell_type": "code",
   "execution_count": 68,
   "metadata": {},
   "outputs": [
    {
     "name": "stdout",
     "output_type": "stream",
     "text": [
      "p(prize|spam) = 0.0012044, smoothed to 0.0059969\n"
     ]
    }
   ],
   "source": [
    "terms = vect.get_feature_names()\n",
    "spamf = X_spams.toarray().sum(axis=0)\n",
    "spamttf = spamf.sum()\n",
    "f = spamf[i]\n",
    "p = f / hamttf\n",
    "ps = (f+1)/(spamttf+2)\n",
    "print(\"p({:s}|spam) = {:.7f}, smoothed to {:.7f}\".format(t, p, ps))"
   ]
  },
  {
   "cell_type": "code",
   "execution_count": 69,
   "metadata": {},
   "outputs": [
    {
     "data": {
      "text/plain": [
       "(5401, 4416)"
      ]
     },
     "execution_count": 69,
     "metadata": {},
     "output_type": "execute_result"
    }
   ],
   "source": [
    "t1 = terms.index(\"prize\")\n",
    "t2 = terms.index(\"meeting\")\n",
    "t1, t2"
   ]
  },
  {
   "cell_type": "code",
   "execution_count": 70,
   "metadata": {},
   "outputs": [
    {
     "data": {
      "text/plain": [
       "<matplotlib.legend.Legend at 0x180b3992a90>"
      ]
     },
     "execution_count": 70,
     "metadata": {},
     "output_type": "execute_result"
    },
    {
     "data": {
      "image/png": "[encoded data removed]",
      "text/plain": [
       "<Figure size 640x480 with 1 Axes>"
      ]
     },
     "metadata": {},
     "output_type": "display_data"
    }
   ],
   "source": [
    "# Example to plot two term (column vectors) on x and y\n",
    "plt.plot(X_hams.toarray()[:,t1], X_hams.toarray()[:,t2], '+', color=\"blue\", label=\"Hams\")\n",
    "plt.plot(X_spams.toarray()[:,t1], X_spams.toarray()[:,t2], 'o', color=\"red\", label=\"Spams\")\n",
    "plt.xlabel(\"prize\")\n",
    "plt.ylabel(\"meeting\")\n",
    "plt.legend()"
   ]
  },
  {
   "cell_type": "code",
   "execution_count": 71,
   "metadata": {},
   "outputs": [],
   "source": [
    "from sklearn.naive_bayes import BernoulliNB\n",
    "\n",
    "# build the Bernoulli Naive Bayes classifiers\n",
    "# with parameters, such as: \n",
    "# 1. alpha value for the Laplace estimator (smoothing)\n",
    "# 2. binarize, the threshold/cutoff for 0 or 1 values\n",
    "bNB = BernoulliNB(alpha=.01, binarize=0.0)\n",
    "bNB.fit(X_train, train.v1)\n",
    "v1p = bNB.predict(X_test)"
   ]
  },
  {
   "cell_type": "code",
   "execution_count": 72,
   "metadata": {},
   "outputs": [
    {
     "name": "stdout",
     "output_type": "stream",
     "text": [
      "['ham' 'ham' 'ham' ... 'spam' 'ham' 'ham']\n"
     ]
    }
   ],
   "source": [
    "print(v1p)"
   ]
  },
  {
   "cell_type": "code",
   "execution_count": 73,
   "metadata": {},
   "outputs": [
    {
     "data": {
      "text/plain": [
       "<sklearn.metrics._plot.confusion_matrix.ConfusionMatrixDisplay at 0x180b3729fd0>"
      ]
     },
     "metadata": {},
     "output_type": "display_data"
    },
    {
     "data": {
      "image/png": "[encoded data removed]",
      "text/plain": [
       "<Figure size 640x480 with 2 Axes>"
      ]
     },
     "metadata": {},
     "output_type": "display_data"
    }
   ],
   "source": [
    "from sklearn.metrics import confusion_matrix, plot_confusion_matrix\n",
    "confusion_matrix(v1p, test.v1)\n",
    "display(plot_confusion_matrix(bNB, X_test, test.v1, values_format='d'))"
   ]
  },
  {
   "cell_type": "code",
   "execution_count": 76,
   "metadata": {},
   "outputs": [
    {
     "name": "stdout",
     "output_type": "stream",
     "text": [
      "Accuracy: 0.9921\n",
      "Kappa   : 0.9667\n"
     ]
    }
   ],
   "source": [
    "from sklearn.metrics import accuracy_score, cohen_kappa_score \n",
    "acc = accuracy_score(v1p, test.v1)\n",
    "kappa = cohen_kappa_score(v1p, test.v1)\n",
    "\n",
    "print(\"Accuracy: {:.4f}\".format(acc))\n",
    "print(\"Kappa   : {:.4f}\".format(kappa))"
   ]
  },
  {
   "cell_type": "code",
   "execution_count": 77,
   "metadata": {},
   "outputs": [
    {
     "name": "stdout",
     "output_type": "stream",
     "text": [
      "              precision    recall  f1-score   support\n",
      "\n",
      "         ham       1.00      0.99      1.00       989\n",
      "        spam       0.96      0.98      0.97       155\n",
      "\n",
      "    accuracy                           0.99      1144\n",
      "   macro avg       0.98      0.99      0.98      1144\n",
      "weighted avg       0.99      0.99      0.99      1144\n",
      "\n"
     ]
    }
   ],
   "source": [
    "from sklearn.metrics import classification_report\n",
    "print(classification_report(v1p,test.v1))"
   ]
  },
  {
   "cell_type": "code",
   "execution_count": null,
   "metadata": {},
   "outputs": [],
   "source": []
  }
 ],
 "metadata": {
  "kernelspec": {
   "display_name": "Python 3",
   "language": "python",
   "name": "python3"
  },
  "language_info": {
   "codemirror_mode": {
    "name": "ipython",
    "version": 3
   },
   "file_extension": ".py",
   "mimetype": "text/x-python",
   "name": "python",
   "nbconvert_exporter": "python",
   "pygments_lexer": "ipython3",
   "version": "3.8.3"
  }
 },
 "nbformat": 4,
 "nbformat_minor": 4
}
